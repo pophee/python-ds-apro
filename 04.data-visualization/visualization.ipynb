{
 "cells": [
  {
   "cell_type": "code",
   "execution_count": null,
   "metadata": {},
   "outputs": [],
   "source": [
    "import pandas as pd"
   ]
  },
  {
   "cell_type": "code",
   "execution_count": null,
   "metadata": {},
   "outputs": [],
   "source": [
    "train = pd.read_csv('train.csv')"
   ]
  },
  {
   "cell_type": "code",
   "execution_count": null,
   "metadata": {},
   "outputs": [],
   "source": [
    "%matplotlib inline\n",
    "import seaborn as sns"
   ]
  },
  {
   "cell_type": "code",
   "execution_count": null,
   "metadata": {},
   "outputs": [],
   "source": [
    "sns.countplot(data=train, x='Embarked', hue='Survived')"
   ]
  },
  {
   "cell_type": "code",
   "execution_count": null,
   "metadata": {},
   "outputs": [],
   "source": [
    "sns.countplot(data=train, x='Pclass', hue='Survived')"
   ]
  },
  {
   "cell_type": "code",
   "execution_count": null,
   "metadata": {},
   "outputs": [],
   "source": [
    "sns.barplot(data=train, x='Pclass', y='Fare', hue='Survived')"
   ]
  },
  {
   "cell_type": "code",
   "execution_count": null,
   "metadata": {},
   "outputs": [],
   "source": [
    "sns.pointplot(data=train, x='Pclass', y='Fare', hue='Survived')"
   ]
  },
  {
   "cell_type": "code",
   "execution_count": null,
   "metadata": {},
   "outputs": [],
   "source": [
    "low_fare = train[train['Fare'] < 100]\n",
    "\n",
    "perish = low_fare[low_fare['Survived'] == 0]\n",
    "survived = low_fare[low_fare['Survived'] == 1]\n",
    "\n",
    "sns.distplot(perish['Fare'], hist=False, label='perish')\n",
    "sns.distplot(survived['Fare'], hist=False, label='survived')"
   ]
  },
  {
   "cell_type": "code",
   "execution_count": null,
   "metadata": {},
   "outputs": [],
   "source": [
    "low_fare = train[train['Fare'] < 100]\n",
    "\n",
    "sns.lmplot(data=low_fare, x='Age', y='Fare', hue='Survived', fit_reg=False)"
   ]
  },
  {
   "cell_type": "markdown",
   "metadata": {},
   "source": [
    "# subplots"
   ]
  },
  {
   "cell_type": "code",
   "execution_count": null,
   "metadata": {},
   "outputs": [],
   "source": [
    "import matplotlib.pyplot as plt"
   ]
  },
  {
   "cell_type": "code",
   "execution_count": null,
   "metadata": {},
   "outputs": [],
   "source": [
    "figure, (ax1, ax2, ax3) = plt.subplots(nrows=1, ncols=3)\n",
    "figure.set_size_inches(15, 4)\n",
    "\n",
    "sns.countplot(data=train, x='Pclass', hue='Survived', ax=ax1)\n",
    "sns.countplot(data=train, x='Sex', hue='Survived', ax=ax2)\n",
    "sns.countplot(data=train, x='Embarked', hue='Survived', ax=ax3)"
   ]
  },
  {
   "cell_type": "code",
   "execution_count": null,
   "metadata": {},
   "outputs": [],
   "source": [
    "figure, ((ax1, ax2, ax3), (ax4, ax5, ax6)) = plt.subplots(nrows=2, ncols=3)\n",
    "figure.set_size_inches(15, 7)\n",
    "\n",
    "sns.countplot(data=train, x='Pclass', hue='Survived', ax=ax1)\n",
    "sns.countplot(data=train, x='Sex', hue='Survived', ax=ax2)\n",
    "sns.countplot(data=train, x='Embarked', hue='Survived', ax=ax3)\n",
    "sns.countplot(data=train, x='SibSp', hue='Survived', ax=ax4)\n",
    "sns.countplot(data=train, x='Parch', hue='Survived', ax=ax5)\n",
    "sns.countplot(data=train, x='Embarked', hue='Survived', ax=ax6)"
   ]
  },
  {
   "cell_type": "code",
   "execution_count": null,
   "metadata": {},
   "outputs": [],
   "source": [
    "figure, ax1 = plt.subplots(nrows=1, ncols=1)\n",
    "figure.set_size_inches(18, 5)\n",
    "\n",
    "sns.countplot(data=train, x='SibSp', hue='Survived')\n"
   ]
  }
 ],
 "metadata": {
  "kernelspec": {
   "display_name": "Python 3",
   "language": "python",
   "name": "python3"
  },
  "language_info": {
   "codemirror_mode": {
    "name": "ipython",
    "version": 3
   },
   "file_extension": ".py",
   "mimetype": "text/x-python",
   "name": "python",
   "nbconvert_exporter": "python",
   "pygments_lexer": "ipython3",
   "version": "3.6.3"
  }
 },
 "nbformat": 4,
 "nbformat_minor": 2
}
